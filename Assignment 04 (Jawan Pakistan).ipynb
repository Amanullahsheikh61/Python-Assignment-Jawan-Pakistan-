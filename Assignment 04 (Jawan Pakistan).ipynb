{
 "cells": [
  {
   "cell_type": "markdown",
   "id": "3d99ece2",
   "metadata": {},
   "source": [
    "# Q1: Calculator using Python"
   ]
  },
  {
   "cell_type": "code",
   "execution_count": 10,
   "id": "aa4bb82c",
   "metadata": {},
   "outputs": [
    {
     "name": "stdout",
     "output_type": "stream",
     "text": [
      "Select your Operator + - * / **\n",
      "*\n",
      "Enter your number\n",
      "9\n",
      "Enter your 2nd number\n",
      "9\n",
      "Your answer is= 81\n"
     ]
    }
   ],
   "source": [
    "print(\"Select your Operator\",'+','-','*','/','**')\n",
    "operator=input()\n",
    "print(\"Enter your number\")\n",
    "num=int(input())\n",
    "print(\"Enter your 2nd number\")\n",
    "num1=int(input())\n",
    "##Calculator\n",
    "if operator=='+':\n",
    "    print(\"Your answer is=\", num+num1)\n",
    "elif operator=='*':\n",
    "    print(\"Your answer is=\", num*num1)\n",
    "elif operator=='/':\n",
    "    print(\"Your answer is=\", num/num1)\n",
    "elif operator=='-':\n",
    "    print(\"Your answer is=\", num-num1)\n",
    "elif operator=='**':\n",
    "    print(\"Your answer is=\", num**num1)\n",
    "else:\n",
    "    print(\"Operator Error\")"
   ]
  },
  {
   "cell_type": "markdown",
   "id": "f01f5d43",
   "metadata": {},
   "source": [
    "# Q:2: Any numeric value in list using for loop"
   ]
  },
  {
   "cell_type": "code",
   "execution_count": 11,
   "id": "53a3bc50",
   "metadata": {},
   "outputs": [
    {
     "name": "stdout",
     "output_type": "stream",
     "text": [
      "['1', '2', '3', '4', '5', '6', '12463', '329830']\n"
     ]
    }
   ],
   "source": [
    "List = ['1 2 3', '4 5 6','12463','329830', 'invalid', 'name']\n",
    "numbers = []\n",
    "for item in List:\n",
    "    for i in item.split():\n",
    "        if(i.isdigit()):\n",
    "            numbers.append(i)\n",
    "print(numbers)"
   ]
  },
  {
   "cell_type": "markdown",
   "id": "8b7171a0",
   "metadata": {},
   "source": [
    "# Q:3:Adding a New KEY in Dictionary"
   ]
  },
  {
   "cell_type": "code",
   "execution_count": 3,
   "id": "022f487c",
   "metadata": {},
   "outputs": [
    {
     "name": "stdout",
     "output_type": "stream",
     "text": [
      "{'aaa-aaa': 11111, 'ccc-ccc': 333333, 'ddd-ddd': 444444, 'bbbb': 2222}\n"
     ]
    }
   ],
   "source": [
    "contacts={\"aaa-aaa\":11111,\"ccc-ccc\":333333,\"ddd-ddd\":444444}\n",
    "contacts[\"bbbb\"]=2222\n",
    "print(contacts)"
   ]
  },
  {
   "cell_type": "markdown",
   "id": "6c6ca94b",
   "metadata": {},
   "source": [
    "# Q:4:Sum all the numeric items in a dictionary"
   ]
  },
  {
   "cell_type": "code",
   "execution_count": 4,
   "id": "13a45d74",
   "metadata": {},
   "outputs": [
    {
     "name": "stdout",
     "output_type": "stream",
     "text": [
      "Sum=  36779\n"
     ]
    }
   ],
   "source": [
    "sum_dic={'aa':1000,'bb':10540,'cc':25239}\n",
    "print(\"Sum= \", sum(sum_dic.values()))"
   ]
  },
  {
   "cell_type": "markdown",
   "id": "808ff061",
   "metadata": {},
   "source": [
    "# Q:5: Identify duplicate values from list"
   ]
  },
  {
   "cell_type": "code",
   "execution_count": 5,
   "id": "f4480625",
   "metadata": {},
   "outputs": [
    {
     "name": "stdout",
     "output_type": "stream",
     "text": [
      "101\n",
      "102\n",
      "105\n",
      "aa\n",
      "101\n"
     ]
    }
   ],
   "source": [
    "list=[101,100,102,103,105,101,102,105,\"aa\",\"ab\",\"da\",\"aa\",101]\n",
    "list1=[]\n",
    "for i in list:\n",
    "    if i not in list1:\n",
    "        list1.append(i)\n",
    "    else:\n",
    "        print(i)"
   ]
  },
  {
   "cell_type": "markdown",
   "id": "c1f7b2d6",
   "metadata": {},
   "source": [
    "# Q:6: Given key already exists in a dictionary"
   ]
  },
  {
   "cell_type": "code",
   "execution_count": 12,
   "id": "67240390",
   "metadata": {},
   "outputs": [
    {
     "name": "stdout",
     "output_type": "stream",
     "text": [
      "Type any key to search in Dictionary 5\n",
      "No, This key is not repeating\n"
     ]
    }
   ],
   "source": [
    "Dic = {\"Ali\":120012, \"Ahmed\":25325,\"Shaikh\":5896525, \"Aman\":3434066}\n",
    "Key=input(\"Type any key to search in Dictionary \")\n",
    "if Key in Dic:\n",
    "    print(\"Yes, This key is repeating\")\n",
    "else:\n",
    "    print(\"No, This key is not repeating\")"
   ]
  }
 ],
 "metadata": {
  "kernelspec": {
   "display_name": "Python 3",
   "language": "python",
   "name": "python3"
  },
  "language_info": {
   "codemirror_mode": {
    "name": "ipython",
    "version": 3
   },
   "file_extension": ".py",
   "mimetype": "text/x-python",
   "name": "python",
   "nbconvert_exporter": "python",
   "pygments_lexer": "ipython3",
   "version": "3.8.8"
  }
 },
 "nbformat": 4,
 "nbformat_minor": 5
}
