{
 "cells": [
  {
   "cell_type": "code",
   "execution_count": 4,
   "id": "b6eebf89",
   "metadata": {},
   "outputs": [
    {
     "name": "stdout",
     "output_type": "stream",
     "text": [
      "Twinkle, twinkle, little star,\n",
      "\tHow I wonder what you are!\n",
      "\t\tUp above the world so high,\n",
      "\t\tLike a diamond in the sky.\n",
      "Twinkle, twinkle, little star,\n",
      "\tHow I wonder what you are\n",
      "\n",
      "\n",
      "\n",
      "Twinkle, twinkle, little star,\n",
      "\tHow I wonder what you are!\n",
      "\t\tUp above the world so high,\n",
      "\t\tLike a diamond in the sky.\n",
      "Twinkle, twinkle, little star,\n",
      "\tHow I wonder what you are\n"
     ]
    }
   ],
   "source": [
    "#Q1: Write a Python program to print the following string in a specific format (see the output)\n",
    "\n",
    "#THERE ARE MULTIPLE WAYS TO WRITE A SINGLE CODE SO I WRITE TWO CODES\n",
    "#1\n",
    "print(\"Twinkle, twinkle, little star,\");\n",
    "print(\"\\tHow I wonder what you are!\");\n",
    "print(\"\\t\\tUp above the world so high,\");\n",
    "print(\"\\t\\tLike a diamond in the sky.\");\n",
    "print(\"Twinkle, twinkle, little star,\")\n",
    "print(\"\\tHow I wonder what you are\")\n",
    "print(\"\\n\\n\")\n",
    "\n",
    "#2\n",
    "print(\"Twinkle, twinkle, little star,\\n\" \"\\tHow I wonder what you are!\\n\" \"\\t\\tUp above the world so high,\\n\" \"\\t\\tLike a diamond in the sky.\\n\" \"Twinkle, twinkle, little star,\\n\" \"\\tHow I wonder what you are\")"
   ]
  },
  {
   "cell_type": "code",
   "execution_count": 5,
   "id": "dddcf8c3",
   "metadata": {},
   "outputs": [
    {
     "name": "stdout",
     "output_type": "stream",
     "text": [
      "3.8.8 (default, Apr 13 2021, 15:08:03) [MSC v.1916 64 bit (AMD64)]\n"
     ]
    }
   ],
   "source": [
    "#Q2: Write a Python program to get the Python version you are using\n",
    "import sys\n",
    "print(sys.version)"
   ]
  },
  {
   "cell_type": "code",
   "execution_count": 6,
   "id": "db99ea53",
   "metadata": {},
   "outputs": [
    {
     "name": "stdout",
     "output_type": "stream",
     "text": [
      "2021-10-23 22:13:21.561191\n"
     ]
    }
   ],
   "source": [
    "#Q3: Write a Python program to display the current date and time.\n",
    "import datetime\n",
    "Current = datetime.datetime.now()\n",
    "print(Current)"
   ]
  },
  {
   "cell_type": "code",
   "execution_count": 8,
   "id": "5e5b6c70",
   "metadata": {},
   "outputs": [
    {
     "name": "stdout",
     "output_type": "stream",
     "text": [
      "Radius of circle\n",
      "5\n",
      "Area of a circle is\n",
      " 78.53975\n"
     ]
    }
   ],
   "source": [
    "#Q4: Write a Python program which accepts the radius of a circle from the user and compute the area.\n",
    "pi=3.14159\n",
    "r=int(input(\"Radius of circle\\n\"))\n",
    "print((\"Area of a circle is\\n\"), pi*r**2)"
   ]
  },
  {
   "cell_type": "code",
   "execution_count": 9,
   "id": "d8ae5c14",
   "metadata": {},
   "outputs": [
    {
     "name": "stdout",
     "output_type": "stream",
     "text": [
      "First Name: Aman\n",
      "Last Name: Shaikh\n",
      "Shaikh Aman\n"
     ]
    }
   ],
   "source": [
    "#Q5: Write a Python program which accepts the user's first and last name and print them in reverse order with a space between them.\n",
    "FName= input(\"First Name: \")\n",
    "LName= input (\"Last Name: \")\n",
    "print(LName, FName)"
   ]
  },
  {
   "cell_type": "code",
   "execution_count": 11,
   "id": "305b3bb5",
   "metadata": {},
   "outputs": [
    {
     "name": "stdout",
     "output_type": "stream",
     "text": [
      "Enter Your First Number\n",
      "6\n",
      "Enter Your Second Number\n",
      "6\n",
      "Addition of x and y is:\n",
      " 12\n"
     ]
    }
   ],
   "source": [
    "#Q6: Write a python program which takes two inputs from user and print them addition\n",
    "x= int(input(\"Enter Your First Number\\n\"))\n",
    "y= int(input(\"Enter Your Second Number\\n\"))\n",
    "print(\"Addition of x and y is:\\n\",x+y)"
   ]
  },
  {
   "cell_type": "code",
   "execution_count": 13,
   "id": "ab8877d0",
   "metadata": {},
   "outputs": [
    {
     "name": "stdout",
     "output_type": "stream",
     "text": [
      "Marks in Maths\n",
      "89\n",
      "Marks in English\n",
      "89\n",
      "Marks in Islamiat\n",
      "89\n",
      "Marks in Accounting\n",
      "96\n",
      "Marks in Ecoomics\n",
      "96\n",
      "Obtained Marks= 459\n",
      "Your Percentage is 91.8\n",
      "Your Grade is A+\n"
     ]
    }
   ],
   "source": [
    "#Q7: Write a program which takes 5 inputs from user for different subject’s marks, total it and generate mark sheet using grades ?\n",
    "Maths = int(input(\"Marks in Maths\\n\"))\n",
    "Eng = int(input(\"Marks in English\\n\"))\n",
    "Isl = int(input(\"Marks in Islamiat\\n\"))\n",
    "Acc = int(input(\"Marks in Accounting\\n\"))\n",
    "Eco = int(input(\"Marks in Ecoomics\\n\"))\n",
    "Total_Marks = 500\n",
    "print(\"Obtained Marks=\", (Maths + Eng + Isl + Acc + Eco))\n",
    "Percentage = (( Maths + Eng + Isl + Acc + Eco) / Total_Marks)*100;\n",
    "print(\"Your Percentage is\", Percentage)\n",
    "if Percentage <= 100 and Percentage > 80:\n",
    "    print (\"Your Grade is A+\");\n",
    "elif Percentage < 80 and Percentage > 75:\n",
    "    print (\"Your Grade is Grade A\");\n",
    "elif Percentage < 75 and Percentage > 60:\n",
    "    print (\"Your Grade is Grade B\");\n",
    "elif Percentage < 60:\n",
    "    print (\"Sorry, You are Fail\");\n",
    "else:\n",
    "    print(\"Invalid Number\");"
   ]
  },
  {
   "cell_type": "code",
   "execution_count": 16,
   "id": "97b6ebb7",
   "metadata": {},
   "outputs": [
    {
     "name": "stdout",
     "output_type": "stream",
     "text": [
      "Enter a number\n",
      "85\n",
      "This is an Odd Number\n"
     ]
    }
   ],
   "source": [
    "#Q8: Write a program which take input from user and identify that the given number is even or odd?\n",
    "number= int(input(\"Enter a number\\n\"))\n",
    "if number%2==0:\n",
    "    print (\"This is an Even Number\")\n",
    "else:\n",
    "    print (\"This is an Odd Number\")"
   ]
  },
  {
   "cell_type": "code",
   "execution_count": 19,
   "id": "d9e9a16b",
   "metadata": {},
   "outputs": [
    {
     "name": "stdout",
     "output_type": "stream",
     "text": [
      "4\n"
     ]
    }
   ],
   "source": [
    "#Q9: Write a program which print the length of the list?\n",
    "Subjects=[\"Maths\",\"English\",\"Urdu\",\"Sindhi\"]\n",
    "print(len(Subjects))"
   ]
  },
  {
   "cell_type": "code",
   "execution_count": 20,
   "id": "ad15766e",
   "metadata": {},
   "outputs": [
    {
     "name": "stdout",
     "output_type": "stream",
     "text": [
      "40162\n"
     ]
    }
   ],
   "source": [
    "#Q10: Write a Python program to sum all the numeric items in a list?\n",
    "List=[1,99,1010,2,45,111,55,3336,336,1000,25589,8563,15]\n",
    "print(sum(List))"
   ]
  },
  {
   "cell_type": "code",
   "execution_count": 23,
   "id": "9f53df5a",
   "metadata": {},
   "outputs": [
    {
     "name": "stdout",
     "output_type": "stream",
     "text": [
      "25589\n"
     ]
    }
   ],
   "source": [
    "#Q11: Write a Python program to get the largest number from a numeric list.\n",
    "List=[1,99,1010,2,45,111,55,3336,336,1000,25589,8563,15]\n",
    "print(max(List))"
   ]
  },
  {
   "cell_type": "code",
   "execution_count": 24,
   "id": "ed4fee4f",
   "metadata": {},
   "outputs": [
    {
     "name": "stdout",
     "output_type": "stream",
     "text": [
      "1\n",
      "1\n",
      "2\n",
      "3\n"
     ]
    }
   ],
   "source": [
    "#Q12: Write a program that prints out all the elements of the list that are less than 5.\n",
    "a = [1, 1, 2, 3, 5, 8, 13, 21, 34, 55, 89]\n",
    "for number in a:\n",
    "    if number < 5:\n",
    "        print (number)"
   ]
  },
  {
   "cell_type": "code",
   "execution_count": null,
   "id": "6022c05a",
   "metadata": {},
   "outputs": [],
   "source": []
  }
 ],
 "metadata": {
  "kernelspec": {
   "display_name": "Python 3",
   "language": "python",
   "name": "python3"
  },
  "language_info": {
   "codemirror_mode": {
    "name": "ipython",
    "version": 3
   },
   "file_extension": ".py",
   "mimetype": "text/x-python",
   "name": "python",
   "nbconvert_exporter": "python",
   "pygments_lexer": "ipython3",
   "version": "3.8.8"
  }
 },
 "nbformat": 4,
 "nbformat_minor": 5
}
